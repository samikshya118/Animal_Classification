{
  "cells": [
    {
      "cell_type": "code",
      "execution_count": null,
      "metadata": {
        "colab": {
          "base_uri": "https://localhost:8080/"
        },
        "id": "mjMI--DWrRfi",
        "outputId": "58a7a8f8-d6c4-485a-84be-717485b947b1"
      },
      "outputs": [],
      "source": [
        "# Mount Google Drive\n",
        "from google.colab import drive\n",
        "drive.mount('/content/drive')\n",
        "\n",
        "# Path to your dataset folder\n",
        "data_dir = \"/content/drive/MyDrive/Animal Classification/dataset\"\n",
        "\n",
        "\n",
        "# Check if folders are accessible\n",
        "import os\n",
        "print(os.listdir(data_dir))\n",
        "\n"
      ]
    },
    {
      "cell_type": "code",
      "execution_count": null,
      "metadata": {
        "id": "4TKoze8msKGi"
      },
      "outputs": [],
      "source": [
        "import numpy as np\n",
        "import matplotlib.pyplot as plt\n",
        "import os\n",
        "\n",
        "from tensorflow.keras.preprocessing.image import ImageDataGenerator\n"
      ]
    },
    {
      "cell_type": "code",
      "execution_count": null,
      "metadata": {
        "colab": {
          "base_uri": "https://localhost:8080/"
        },
        "id": "ZAYz8or3rd8J",
        "outputId": "4370f1e8-9c83-44c2-c3d5-0e3abfd7e4d3"
      },
      "outputs": [],
      "source": [
        "img_size = 224\n",
        "batch_size = 32\n",
        "\n",
        "datagen = ImageDataGenerator(\n",
        "    rescale=1./255,\n",
        "    validation_split=0.2,   # 80% training, 20% validation\n",
        "    shear_range=0.2,\n",
        "    zoom_range=0.2,\n",
        "    horizontal_flip=True\n",
        ")\n",
        "\n",
        "train_data = datagen.flow_from_directory(\n",
        "    \"/content/drive/MyDrive/Animal Classification/dataset\",\n",
        "    target_size=(img_size, img_size),\n",
        "    batch_size=batch_size,\n",
        "    class_mode='categorical',\n",
        "    subset='training'\n",
        ")\n",
        "\n",
        "val_data = datagen.flow_from_directory(\n",
        "    \"/content/drive/MyDrive/Animal Classification/dataset\",\n",
        "    target_size=(img_size, img_size),\n",
        "    batch_size=batch_size,\n",
        "    class_mode='categorical',\n",
        "    subset='validation'\n",
        ")\n"
      ]
    },
    {
      "cell_type": "code",
      "execution_count": null,
      "metadata": {
        "colab": {
          "base_uri": "https://localhost:8080/",
          "height": 289
        },
        "id": "IIV5RsczsFD4",
        "outputId": "e082b7a8-01d8-4dca-f583-e0fa60fc3194"
      },
      "outputs": [],
      "source": [
        "from tensorflow.keras.applications import VGG16\n",
        "from tensorflow.keras.models import Sequential\n",
        "from tensorflow.keras.layers import Dense, Dropout, Flatten\n",
        "from tensorflow.keras.optimizers import Adam\n",
        "\n",
        "# Load base model (pretrained on ImageNet)\n",
        "base_model = VGG16(weights='imagenet', include_top=False, input_shape=(img_size, img_size, 3))\n",
        "\n",
        "# Freeze pretrained layers\n",
        "for layer in base_model.layers:\n",
        "    layer.trainable = False\n",
        "\n",
        "# Build final model\n",
        "model = Sequential([\n",
        "    base_model,\n",
        "    Flatten(),\n",
        "    Dense(256, activation='relu'),\n",
        "    Dropout(0.5),\n",
        "    Dense(train_data.num_classes, activation='softmax')\n",
        "])\n",
        "\n",
        "# Compile\n",
        "model.compile(optimizer=Adam(learning_rate=0.0001),\n",
        "              loss='categorical_crossentropy',\n",
        "              metrics=['accuracy'])\n",
        "\n",
        "model.summary()\n"
      ]
    },
    {
      "cell_type": "markdown",
      "metadata": {
        "id": "fYRE9ptasZNx"
      },
      "source": [
        "Train the model"
      ]
    },
    {
      "cell_type": "code",
      "execution_count": null,
      "metadata": {
        "colab": {
          "background_save": true,
          "base_uri": "https://localhost:8080/"
        },
        "id": "pQh2Q6aMSJ_A",
        "outputId": "60690b06-7dc8-4a29-cb5f-cf0434a5a96c"
      },
      "outputs": [],
      "source": [
        "# 1️⃣ Train the model\n",
        "history = model.fit(\n",
        "    train_data,\n",
        "    validation_data=val_data,\n",
        "    epochs=10,   # you can increase to 15–20 if GPU time allows\n",
        "    verbose=1\n",
        ")\n",
        "\n",
        "# 2️⃣ Batch-wise prediction for faster evaluation\n",
        "import numpy as np\n",
        "from sklearn.metrics import classification_report, confusion_matrix\n",
        "import matplotlib.pyplot as plt\n",
        "import seaborn as sns\n",
        "\n",
        "y_pred = []\n",
        "y_true = []\n",
        "\n",
        "# Ensure your validation generator has shuffle=False\n",
        "# val_data = ImageDataGenerator(...).flow_from_directory(..., shuffle=False)\n",
        "\n",
        "for i in range(len(val_data)):\n",
        "    x_batch, y_batch = val_data[i]            # get batch\n",
        "    y_pred_batch = model.predict(x_batch)     # predict batch\n",
        "    y_pred.append(y_pred_batch)\n",
        "    y_true.append(np.argmax(y_batch, axis=1))\n",
        "\n",
        "# Stack all batches\n",
        "y_pred = np.vstack(y_pred)\n",
        "y_pred_classes = np.argmax(y_pred, axis=1)\n",
        "y_true = np.hstack(y_true)\n",
        "\n",
        "# 3️⃣ Get class labels\n",
        "class_labels = list(val_data.class_indices.keys())\n",
        "\n",
        "# 4️⃣ Classification report\n",
        "print(classification_report(y_true, y_pred_classes, target_names=class_labels))\n",
        "\n",
        "# 5️⃣ Confusion matrix\n",
        "cm = confusion_matrix(y_true, y_pred_classes)\n",
        "\n",
        "# Plot confusion matrix\n",
        "plt.figure(figsize=(12,8))\n",
        "sns.heatmap(cm, annot=False, cmap=\"Blues\", xticklabels=class_labels, yticklabels=class_labels)\n",
        "plt.xlabel(\"Predicted\")\n",
        "plt.ylabel(\"True\")\n",
        "plt.title(\"Confusion Matrix\")\n",
        "plt.show()\n",
        "\n",
        "# 6️⃣ Optional: Plot training history\n",
        "plt.figure(figsize=(12,4))\n",
        "plt.subplot(1,2,1)\n",
        "plt.plot(history.history['accuracy'], label='Train Acc')\n",
        "plt.plot(history.history['val_accuracy'], label='Val Acc')\n",
        "plt.title(\"Accuracy\")\n",
        "plt.legend()\n",
        "\n",
        "plt.subplot(1,2,2)\n",
        "plt.plot(history.history['loss'], label='Train Loss')\n",
        "plt.plot(history.history['val_loss'], label='Val Loss')\n",
        "plt.title(\"Loss\")\n",
        "plt.legend()\n",
        "plt.show()\n",
        "\n"
      ]
    },
    {
      "cell_type": "code",
      "execution_count": null,
      "metadata": {
        "id": "E3ob9vg4SKsS"
      },
      "outputs": [],
      "source": [
        "train_dir = \"/content/drive/MyDrive/Animal Classification/dataset/train\"\n",
        "val_dir = \"/content/drive/MyDrive/Animal Classification/dataset/val\"\n",
        "\n",
        "\n"
      ]
    },
    {
      "cell_type": "code",
      "execution_count": null,
      "metadata": {
        "colab": {
          "base_uri": "https://localhost:8080/"
        },
        "id": "t0N_tbJhD1xa",
        "outputId": "c4a5e809-b0db-4527-b13e-dd68807872e1"
      },
      "outputs": [],
      "source": [
        "from tensorflow.keras.preprocessing.image import ImageDataGenerator\n",
        "\n",
        "data_dir = \"/content/drive/MyDrive/Animal Classification/dataset\"\n",
        "\n",
        "# Create generators with split\n",
        "datagen = ImageDataGenerator(rescale=1./255, validation_split=0.2)  # 80% train, 20% val\n",
        "\n",
        "train_data = datagen.flow_from_directory(\n",
        "    data_dir,\n",
        "    target_size=(224,224),\n",
        "    batch_size=32,\n",
        "    class_mode=\"categorical\",\n",
        "    subset=\"training\"\n",
        ")\n",
        "\n",
        "val_data = datagen.flow_from_directory(\n",
        "    data_dir,\n",
        "    target_size=(224,224),\n",
        "    batch_size=32,\n",
        "    class_mode=\"categorical\",\n",
        "    subset=\"validation\",\n",
        "    shuffle=False\n",
        ")\n"
      ]
    },
    {
      "cell_type": "markdown",
      "metadata": {
        "id": "gwIbkySSFS1m"
      },
      "source": [
        "Build your CNN model"
      ]
    },
    {
      "cell_type": "code",
      "execution_count": null,
      "metadata": {
        "colab": {
          "base_uri": "https://localhost:8080/",
          "height": 472
        },
        "id": "PhZ5jMF9E5Hx",
        "outputId": "8b14cc35-7143-40d4-8b18-71f09a38f43a"
      },
      "outputs": [],
      "source": [
        "from tensorflow.keras import layers, models\n",
        "\n",
        "# Build a simple CNN\n",
        "model = models.Sequential([\n",
        "    layers.Conv2D(32, (3,3), activation='relu', input_shape=(224,224,3)),\n",
        "    layers.MaxPooling2D((2,2)),\n",
        "\n",
        "    layers.Conv2D(64, (3,3), activation='relu'),\n",
        "    layers.MaxPooling2D((2,2)),\n",
        "\n",
        "    layers.Conv2D(128, (3,3), activation='relu'),\n",
        "    layers.MaxPooling2D((2,2)),\n",
        "\n",
        "    layers.Flatten(),\n",
        "    layers.Dense(128, activation='relu'),\n",
        "    layers.Dense(15, activation='softmax')   # 15 classes\n",
        "])\n",
        "\n",
        "# Compile model\n",
        "model.compile(optimizer='adam', loss='categorical_crossentropy', metrics=['accuracy'])\n",
        "\n",
        "# Model summary\n",
        "model.summary()\n"
      ]
    },
    {
      "cell_type": "markdown",
      "metadata": {
        "id": "7CYG9d_hGKQP"
      },
      "source": [
        "Train the model"
      ]
    },
    {
      "cell_type": "code",
      "execution_count": null,
      "metadata": {
        "colab": {
          "base_uri": "https://localhost:8080/"
        },
        "id": "hdQRwriCFVCa",
        "outputId": "0e25093c-d9b5-43bd-9871-f3311f10666e"
      },
      "outputs": [],
      "source": [
        "history = model.fit(\n",
        "    train_data,\n",
        "    validation_data=val_data,\n",
        "    epochs=10,   # you can increase to 15–20 if GPU time allows\n",
        "    verbose=1\n",
        ")\n"
      ]
    },
    {
      "cell_type": "code",
      "execution_count": null,
      "metadata": {
        "colab": {
          "base_uri": "https://localhost:8080/",
          "height": 1000
        },
        "id": "fta3CKj1FZZG",
        "outputId": "d15faa7f-cafe-4a6a-a13d-9a43ccc69c28"
      },
      "outputs": [],
      "source": [
        "import numpy as np\n",
        "from sklearn.metrics import classification_report, confusion_matrix\n",
        "import matplotlib.pyplot as plt\n",
        "import seaborn as sns\n",
        "\n",
        "# Make sure your validation generator has shuffle=False\n",
        "# val_data = ImageDataGenerator(...).flow_from_directory(..., shuffle=False)\n",
        "\n",
        "# 1️⃣ Batch-wise predictions\n",
        "y_pred = []\n",
        "y_true = []\n",
        "\n",
        "for i in range(len(val_data)):\n",
        "    x_batch, y_batch = val_data[i]\n",
        "    y_pred_batch = model.predict(x_batch)\n",
        "    y_pred.append(y_pred_batch)\n",
        "    y_true.append(np.argmax(y_batch, axis=1))\n",
        "\n",
        "y_pred = np.vstack(y_pred)\n",
        "y_pred_classes = np.argmax(y_pred, axis=1)\n",
        "y_true = np.hstack(y_true)\n",
        "\n",
        "# 2️⃣ Class labels\n",
        "class_labels = list(val_data.class_indices.keys())\n",
        "\n",
        "# 3️⃣ Classification report\n",
        "print(\"Classification Report:\\n\")\n",
        "print(classification_report(y_true, y_pred_classes, target_names=class_labels))\n",
        "\n",
        "# 4️⃣ Confusion matrix\n",
        "cm = confusion_matrix(y_true, y_pred_classes)\n",
        "\n",
        "plt.figure(figsize=(12,8))\n",
        "sns.heatmap(cm, annot=False, cmap=\"Blues\", xticklabels=class_labels, yticklabels=class_labels)\n",
        "plt.xlabel(\"Predicted\")\n",
        "plt.ylabel(\"True\")\n",
        "plt.title(\"Confusion Matrix\")\n",
        "plt.show()\n",
        "\n",
        "# 5️⃣ Plot training history\n",
        "plt.figure(figsize=(12,4))\n",
        "plt.subplot(1,2,1)\n",
        "plt.plot(history.history['accuracy'], label='Train Acc')\n",
        "plt.plot(history.history['val_accuracy'], label='Val Acc')\n",
        "plt.title(\"Accuracy\")\n",
        "plt.legend()\n",
        "\n",
        "plt.subplot(1,2,2)\n",
        "plt.plot(history.history['loss'], label='Train Loss')\n",
        "plt.plot(history.history['val_loss'], label='Val Loss')\n",
        "plt.title(\"Loss\")\n",
        "plt.legend()\n",
        "plt.show()\n"
      ]
    },
    {
      "cell_type": "markdown",
      "metadata": {
        "id": "5HNhj58PNUfe"
      },
      "source": [
        "Fix the overfitting"
      ]
    },
    {
      "cell_type": "code",
      "execution_count": null,
      "metadata": {
        "id": "rIf-80GqNARt"
      },
      "outputs": [],
      "source": [
        "import tensorflow as tf\n",
        "from tensorflow.keras.preprocessing.image import ImageDataGenerator\n",
        "from tensorflow.keras import layers, models\n",
        "from tensorflow.keras.applications import MobileNetV2\n",
        "from tensorflow.keras.optimizers import Adam\n",
        "import matplotlib.pyplot as plt\n"
      ]
    },
    {
      "cell_type": "markdown",
      "metadata": {
        "id": "4p7c4dxcNck4"
      },
      "source": [
        "Data Augmentation"
      ]
    },
    {
      "cell_type": "code",
      "execution_count": null,
      "metadata": {
        "colab": {
          "base_uri": "https://localhost:8080/"
        },
        "id": "PwTSva9vNUDN",
        "outputId": "72b6c7e5-6c58-49d5-bc36-8e88b244061f"
      },
      "outputs": [],
      "source": [
        "\n",
        "data_dir = \"/content/drive/MyDrive/Animal Classification/dataset\"\n",
        "\n",
        "train_datagen = ImageDataGenerator(\n",
        "    rescale=1./255,\n",
        "    rotation_range=20,\n",
        "    width_shift_range=0.2,\n",
        "    height_shift_range=0.2,\n",
        "    shear_range=0.2,\n",
        "    zoom_range=0.2,\n",
        "    horizontal_flip=True,\n",
        "    validation_split=0.2\n",
        ")\n",
        "\n",
        "train_data = train_datagen.flow_from_directory(\n",
        "    data_dir,\n",
        "    target_size=(224,224),\n",
        "    batch_size=32,\n",
        "    class_mode='categorical',\n",
        "    subset='training'\n",
        ")\n",
        "\n",
        "val_data = train_datagen.flow_from_directory(\n",
        "    data_dir,\n",
        "    target_size=(224,224),\n",
        "    batch_size=32,\n",
        "    class_mode='categorical',\n",
        "    subset='validation',\n",
        "    shuffle=False\n",
        ")\n",
        "\n"
      ]
    },
    {
      "cell_type": "markdown",
      "metadata": {
        "id": "v9kqsKHpNfSk"
      },
      "source": [
        "Build Model using MobileNetV2"
      ]
    },
    {
      "cell_type": "code",
      "execution_count": null,
      "metadata": {
        "colab": {
          "base_uri": "https://localhost:8080/",
          "height": 321
        },
        "id": "YfnI5I5iNbVO",
        "outputId": "bbf89a2a-c0bf-4771-9de9-9548039ca059"
      },
      "outputs": [],
      "source": [
        "base_model = MobileNetV2(weights='imagenet', include_top=False, input_shape=(224,224,3))\n",
        "base_model.trainable = False  # freeze base layers\n",
        "\n",
        "model = models.Sequential([\n",
        "    base_model,\n",
        "    layers.GlobalAveragePooling2D(),\n",
        "    layers.Dense(128, activation='relu'),\n",
        "    layers.Dropout(0.5),          # prevent overfitting\n",
        "    layers.Dense(15, activation='softmax')  # 15 classes\n",
        "])\n",
        "model.compile(optimizer=Adam(learning_rate=0.0001),\n",
        "              loss='categorical_crossentropy',\n",
        "              metrics=['accuracy'])\n",
        "\n",
        "model.summary()\n"
      ]
    },
    {
      "cell_type": "code",
      "execution_count": null,
      "metadata": {
        "colab": {
          "base_uri": "https://localhost:8080/"
        },
        "id": "Ljg6LMuVNiQp",
        "outputId": "c2bd3614-1d2f-464e-e57f-cb364d5a5b29"
      },
      "outputs": [],
      "source": [
        "history = model.fit(\n",
        "    train_data,\n",
        "    validation_data=val_data,\n",
        "    epochs=10,   # can increase to 15–20\n",
        "    verbose=1\n",
        ")"
      ]
    },
    {
      "cell_type": "markdown",
      "metadata": {
        "id": "kxMFqldzN0Xv"
      },
      "source": [
        "Evaluate and Plot"
      ]
    },
    {
      "cell_type": "code",
      "execution_count": null,
      "metadata": {
        "colab": {
          "base_uri": "https://localhost:8080/",
          "height": 1000
        },
        "id": "3ddakMt-NvgD",
        "outputId": "d6915d75-cf6a-40cc-c619-a9a435e25c04"
      },
      "outputs": [],
      "source": [
        "import numpy as np\n",
        "from sklearn.metrics import classification_report, confusion_matrix\n",
        "import seaborn as sns\n",
        "\n",
        "# Batch-wise predictions\n",
        "y_pred = []\n",
        "y_true = []\n",
        "\n",
        "for i in range(len(val_data)):\n",
        "    x_batch, y_batch = val_data[i]\n",
        "    y_pred_batch = model.predict(x_batch)\n",
        "    y_pred.append(y_pred_batch)\n",
        "    y_true.append(np.argmax(y_batch, axis=1))\n",
        "\n",
        "y_pred = np.vstack(y_pred)\n",
        "y_pred_classes = np.argmax(y_pred, axis=1)\n",
        "y_true = np.hstack(y_true)\n",
        "\n",
        "class_labels = list(val_data.class_indices.keys())\n",
        "\n",
        "# Classification report\n",
        "print(classification_report(y_true, y_pred_classes, target_names=class_labels))\n",
        "\n",
        "# Confusion matrix\n",
        "cm = confusion_matrix(y_true, y_pred_classes)\n",
        "plt.figure(figsize=(12,8))\n",
        "sns.heatmap(cm, annot=False, cmap=\"Blues\", xticklabels=class_labels, yticklabels=class_labels)\n",
        "plt.xlabel(\"Predicted\")\n",
        "plt.ylabel(\"True\")\n",
        "plt.title(\"Confusion Matrix\")\n",
        "plt.show()\n",
        "\n",
        "# Plot training history\n",
        "plt.figure(figsize=(12,4))\n",
        "plt.subplot(1,2,1)\n",
        "plt.plot(history.history['accuracy'], label='Train Acc')\n",
        "plt.plot(history.history['val_accuracy'], label='Val Acc')\n",
        "plt.title(\"Accuracy\")\n",
        "plt.legend()\n",
        "\n",
        "plt.subplot(1,2,2)\n",
        "plt.plot(history.history['loss'], label='Train Loss')\n",
        "plt.plot(history.history['val_loss'], label='Val Loss')\n",
        "plt.title(\"Loss\")\n",
        "plt.legend()\n",
        "plt.show()\n"
      ]
    },
    {
      "cell_type": "code",
      "execution_count": null,
      "metadata": {
        "colab": {
          "base_uri": "https://localhost:8080/"
        },
        "id": "ANApDi45XQ5K",
        "outputId": "fdad53fc-1b01-487d-9e9a-9263a890b648"
      },
      "outputs": [],
      "source": [
        "base_model.trainable = True\n",
        "for layer in base_model.layers[:-50]:  # freeze first layers, fine-tune last 50\n",
        "    layer.trainable = False\n",
        "\n",
        "model.compile(optimizer=Adam(1e-5), loss='categorical_crossentropy', metrics=['accuracy'])\n",
        "\n",
        "history_fine = model.fit(\n",
        "    train_data,\n",
        "    validation_data=val_data,\n",
        "    epochs=5,  # fine-tuning usually takes fewer epochs\n",
        "    verbose=1\n",
        ")\n"
      ]
    },
    {
      "cell_type": "code",
      "execution_count": null,
      "metadata": {
        "colab": {
          "base_uri": "https://localhost:8080/",
          "height": 1000
        },
        "id": "2_rIvQ1cYMI5",
        "outputId": "b6c7f4cc-3e6c-4422-cfa4-29de44690e08"
      },
      "outputs": [],
      "source": [
        "# Batch-wise predictions\n",
        "y_pred = []\n",
        "y_true = []\n",
        "\n",
        "for i in range(len(val_data)):\n",
        "    x_batch, y_batch = val_data[i]\n",
        "    y_pred_batch = model.predict(x_batch)\n",
        "    y_pred.append(y_pred_batch)\n",
        "    y_true.append(np.argmax(y_batch, axis=1))\n",
        "\n",
        "y_pred = np.vstack(y_pred)\n",
        "y_pred_classes = np.argmax(y_pred, axis=1)\n",
        "y_true = np.hstack(y_true)\n",
        "\n",
        "class_labels = list(val_data.class_indices.keys())\n",
        "\n",
        "from sklearn.metrics import classification_report, confusion_matrix\n",
        "import seaborn as sns\n",
        "import matplotlib.pyplot as plt\n",
        "\n",
        "print(classification_report(y_true, y_pred_classes, target_names=class_labels))\n",
        "\n",
        "cm = confusion_matrix(y_true, y_pred_classes)\n",
        "plt.figure(figsize=(12,8))\n",
        "sns.heatmap(cm, annot=False, cmap=\"Blues\", xticklabels=class_labels, yticklabels=class_labels)\n",
        "plt.xlabel(\"Predicted\")\n",
        "plt.ylabel(\"True\")\n",
        "plt.title(\"Confusion Matrix\")\n",
        "plt.show()\n"
      ]
    },
    {
      "cell_type": "markdown",
      "metadata": {
        "id": "ask9Ys4UZ5G2"
      },
      "source": [
        "Save your fine-tuned model for inference:"
      ]
    },
    {
      "cell_type": "code",
      "execution_count": null,
      "metadata": {
        "colab": {
          "base_uri": "https://localhost:8080/"
        },
        "id": "w3yWcbE2ZyCl",
        "outputId": "393f2e95-73b2-4932-98a2-bec844723c18"
      },
      "outputs": [],
      "source": [
        "model.save(\"/content/drive/MyDrive/Animal Classification/fine_tuned_mobilenetv2.h5\")\n"
      ]
    },
    {
      "cell_type": "code",
      "execution_count": null,
      "metadata": {
        "colab": {
          "base_uri": "https://localhost:8080/"
        },
        "id": "h6G1v-ECaM_J",
        "outputId": "0c03c11d-5d51-4d4e-b805-b7710a34f660"
      },
      "outputs": [],
      "source": [
        "from tensorflow.keras.preprocessing import image\n",
        "import numpy as np\n",
        "\n",
        "# Direct path from your Google Drive\n",
        "img_path = \"/content/drive/MyDrive/Animal Classification/dataset/Bear/Bear_10.jpg\"\n",
        "\n",
        "# Load and preprocess the image\n",
        "img = image.load_img(img_path, target_size=(224,224))\n",
        "img_array = image.img_to_array(img)/255.0\n",
        "img_array = np.expand_dims(img_array, axis=0)\n",
        "\n",
        "# Predict\n",
        "pred = model.predict(img_array)\n",
        "class_index = np.argmax(pred)\n",
        "class_labels = list(val_data.class_indices.keys())\n",
        "print(\"Predicted Class:\", class_labels[class_index])\n"
      ]
    },
    {
      "cell_type": "code",
      "execution_count": null,
      "metadata": {
        "colab": {
          "base_uri": "https://localhost:8080/"
        },
        "id": "z0PR1vDoarpE",
        "outputId": "70efb235-4176-4610-e43b-e07bfb6aad71"
      },
      "outputs": [],
      "source": [
        "# Evaluate on the validation set\n",
        "val_loss, val_acc = model.evaluate(val_data)\n",
        "print(\"Validation Accuracy:\", val_acc)\n",
        "print(\"Validation Loss:\", val_loss)\n"
      ]
    },
    {
      "cell_type": "code",
      "execution_count": null,
      "metadata": {
        "colab": {
          "base_uri": "https://localhost:8080/"
        },
        "id": "L3sKHhjndbJd",
        "outputId": "8fbd7d78-1651-4634-987b-d2491d99d851"
      },
      "outputs": [],
      "source": [
        "from google.colab import drive\n",
        "drive.mount('/content/drive')\n"
      ]
    },
    {
      "cell_type": "code",
      "execution_count": null,
      "metadata": {
        "id": "rF2eoyJCdwl_"
      },
      "outputs": [],
      "source": [
        "root_folder = \"/content/drive/MyDrive/Animal Classification/TestImages/\"\n"
      ]
    },
    {
      "cell_type": "code",
      "execution_count": null,
      "metadata": {
        "colab": {
          "base_uri": "https://localhost:8080/"
        },
        "id": "RRQJVNdrd5qn",
        "outputId": "e9b5edf9-272d-4576-9f6d-cf92e7dc8e4b"
      },
      "outputs": [],
      "source": [
        "import os\n",
        "print(os.path.exists(root_folder))  # Should print True\n"
      ]
    },
    {
      "cell_type": "code",
      "execution_count": null,
      "metadata": {
        "colab": {
          "base_uri": "https://localhost:8080/",
          "height": 211
        },
        "id": "QsNgzNijd91r",
        "outputId": "42b7f109-139a-4962-f68b-2db8db8a07aa"
      },
      "outputs": [],
      "source": [
        "import os\n",
        "from tensorflow.keras.preprocessing import image\n",
        "import numpy as np\n",
        "import matplotlib.pyplot as plt\n",
        "\n",
        "# Root folder containing subfolders (Bear, Cat, etc.)\n",
        "root_folder = \"/content/drive/MyDrive/Animal Classification/dataset/TestImages/\"\n",
        "\n",
        "class_labels = list(val_data.class_indices.keys())\n",
        "\n",
        "# Collect all image paths from subfolders\n",
        "img_files = []\n",
        "for subfolder in os.listdir(root_folder):\n",
        "    subfolder_path = os.path.join(root_folder, subfolder)\n",
        "    if os.path.isdir(subfolder_path):\n",
        "        for f in os.listdir(subfolder_path):\n",
        "            if f.endswith(('.jpg', '.png')):\n",
        "                img_files.append(os.path.join(subfolder_path, f))\n",
        "\n",
        "# Predict and visualize\n",
        "plt.figure(figsize=(20, 10))\n",
        "for i, img_path in enumerate(img_files):\n",
        "    img = image.load_img(img_path, target_size=(224,224))\n",
        "    img_array = image.img_to_array(img)/255.0\n",
        "    img_array = np.expand_dims(img_array, axis=0)\n",
        "\n",
        "    pred = model.predict(img_array)\n",
        "    class_index = np.argmax(pred)\n",
        "\n",
        "    plt.subplot(4, int(np.ceil(len(img_files)/4)), i+1)  # 4 rows, adjust columns automatically\n",
        "    plt.imshow(img)\n",
        "    plt.title(class_labels[class_index])\n",
        "    plt.axis('off')\n",
        "\n",
        "plt.tight_layout()\n",
        "plt.show()"
      ]
    },
    {
      "cell_type": "code",
      "execution_count": null,
      "metadata": {
        "colab": {
          "base_uri": "https://localhost:8080/"
        },
        "id": "UKTlysb3eEe5",
        "outputId": "a5dc49c4-33bd-4e1d-82cf-84c321cd5d62"
      },
      "outputs": [],
      "source": [
        "import os\n",
        "\n",
        "root_folder = \"/content/drive/MyDrive/Animal Classification/TestImages/\"  # Adjust if needed\n",
        "print(os.path.exists(root_folder))  # Should print True\n"
      ]
    },
    {
      "cell_type": "code",
      "execution_count": null,
      "metadata": {
        "colab": {
          "base_uri": "https://localhost:8080/"
        },
        "id": "UzMmLaFvePh1",
        "outputId": "14d15629-b248-47ee-cecb-c108c25c8600"
      },
      "outputs": [],
      "source": [
        "print(os.listdir(root_folder))  # Should list subfolders like Bear, Cat, etc.\n"
      ]
    },
    {
      "cell_type": "code",
      "execution_count": null,
      "metadata": {
        "colab": {
          "base_uri": "https://localhost:8080/",
          "height": 1000
        },
        "id": "vSLOovSHeVTt",
        "outputId": "8d570fda-5ef4-4e5d-fe7d-19942fdee062"
      },
      "outputs": [],
      "source": [
        "import os\n",
        "from tensorflow.keras.preprocessing import image\n",
        "import numpy as np\n",
        "import matplotlib.pyplot as plt\n",
        "\n",
        "# Root folder containing subfolders (Bear, Cat, etc.)\n",
        "root_folder = \"/content/drive/MyDrive/Animal Classification/TestImages/\"\n",
        "\n",
        "class_labels = list(val_data.class_indices.keys())\n",
        "\n",
        "# Collect all image paths from subfolders along with true labels\n",
        "img_files = []\n",
        "for subfolder in os.listdir(root_folder):\n",
        "    subfolder_path = os.path.join(root_folder, subfolder)\n",
        "    if os.path.isdir(subfolder_path):\n",
        "        for f in os.listdir(subfolder_path):\n",
        "            if f.endswith(('.jpg', '.png')):\n",
        "                img_files.append((os.path.join(subfolder_path, f), subfolder))  # Save true label\n",
        "\n",
        "# Initialize counters\n",
        "correct = 0\n",
        "total = len(img_files)\n",
        "\n",
        "batch_size = 20  # Number of images per figure\n",
        "\n",
        "# Predict, visualize, and compute accuracy in batches\n",
        "for start in range(0, total, batch_size):\n",
        "    end = start + batch_size\n",
        "    plt.figure(figsize=(20, 10))\n",
        "\n",
        "    for i, (img_path, true_label) in enumerate(img_files[start:end]):\n",
        "        img = image.load_img(img_path, target_size=(224,224))\n",
        "        img_array = image.img_to_array(img)/255.0\n",
        "        img_array = np.expand_dims(img_array, axis=0)\n",
        "\n",
        "        pred = model.predict(img_array)\n",
        "        class_index = np.argmax(pred)\n",
        "        predicted_label = class_labels[class_index]\n",
        "\n",
        "        if predicted_label == true_label:\n",
        "            correct += 1\n",
        "\n",
        "        plt.subplot(4, int(np.ceil(batch_size/4)), i+1)\n",
        "        plt.imshow(img)\n",
        "        plt.title(f\"P: {predicted_label}\\nT: {true_label}\")\n",
        "        plt.axis('off')\n",
        "\n",
        "    plt.tight_layout()\n",
        "    plt.show()\n",
        "\n",
        "# Compute overall accuracy\n",
        "accuracy = correct / total\n",
        "print(f\"Overall TestImages Accuracy: {accuracy*100:.2f}%\")\n",
        "\n"
      ]
    },
    {
      "cell_type": "code",
      "execution_count": null,
      "metadata": {
        "id": "5YfkR_9IrxtN"
      },
      "outputs": [],
      "source": []
    }
  ],
  "metadata": {
    "colab": {
      "provenance": []
    },
    "kernelspec": {
      "display_name": "Python 3",
      "name": "python3"
    },
    "language_info": {
      "name": "python"
    }
  },
  "nbformat": 4,
  "nbformat_minor": 0
}
